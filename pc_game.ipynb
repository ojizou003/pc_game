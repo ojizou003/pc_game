{
 "cells": [
  {
   "cell_type": "markdown",
   "metadata": {},
   "source": [
    "インポート"
   ]
  },
  {
   "cell_type": "code",
   "execution_count": 1,
   "metadata": {},
   "outputs": [],
   "source": [
    "import numpy as np\n",
    "import pandas as pd\n",
    "import matplotlib.pyplot as plt\n",
    "import seaborn as sns"
   ]
  },
  {
   "cell_type": "code",
   "execution_count": 2,
   "metadata": {},
   "outputs": [],
   "source": [
    "from sklearn.metrics import accuracy_score\n",
    "from sklearn.model_selection import KFold"
   ]
  },
  {
   "cell_type": "code",
   "execution_count": 3,
   "metadata": {},
   "outputs": [],
   "source": [
    "import lightgbm as lgb\n",
    "import xgboost as xgb\n",
    "\n",
    "from sklearn.linear_model import LogisticRegression"
   ]
  },
  {
   "cell_type": "code",
   "execution_count": 4,
   "metadata": {},
   "outputs": [],
   "source": [
    "pd.options.display.max_rows=100\n",
    "pd.options.display.max_columns=100"
   ]
  },
  {
   "cell_type": "code",
   "execution_count": 5,
   "metadata": {},
   "outputs": [],
   "source": [
    "train = pd.read_csv('train.csv', index_col=0)\n",
    "test = pd.read_csv('test.csv', index_col=0)\n",
    "sample_submit = pd.read_csv('sample_submit.csv', index_col=0, header=None)"
   ]
  },
  {
   "cell_type": "markdown",
   "metadata": {},
   "source": [
    "データの確認"
   ]
  },
  {
   "cell_type": "code",
   "execution_count": 6,
   "metadata": {},
   "outputs": [
    {
     "name": "stdout",
     "output_type": "stream",
     "text": [
      "(8000, 9) (2000, 8)\n"
     ]
    }
   ],
   "source": [
    "print(train.shape, test.shape)"
   ]
  },
  {
   "cell_type": "code",
   "execution_count": 7,
   "metadata": {},
   "outputs": [
    {
     "data": {
      "text/html": [
       "<div>\n",
       "<style scoped>\n",
       "    .dataframe tbody tr th:only-of-type {\n",
       "        vertical-align: middle;\n",
       "    }\n",
       "\n",
       "    .dataframe tbody tr th {\n",
       "        vertical-align: top;\n",
       "    }\n",
       "\n",
       "    .dataframe thead th {\n",
       "        text-align: right;\n",
       "    }\n",
       "</style>\n",
       "<table border=\"1\" class=\"dataframe\">\n",
       "  <thead>\n",
       "    <tr style=\"text-align: right;\">\n",
       "      <th></th>\n",
       "      <th>blueFirstBlood</th>\n",
       "      <th>blueKills</th>\n",
       "      <th>blueDeaths</th>\n",
       "      <th>blueAssists</th>\n",
       "      <th>blueEliteMonsters</th>\n",
       "      <th>blueDragons</th>\n",
       "      <th>blueTotalGold</th>\n",
       "      <th>blueTotalExperience</th>\n",
       "      <th>blueWins</th>\n",
       "    </tr>\n",
       "    <tr>\n",
       "      <th>gameId</th>\n",
       "      <th></th>\n",
       "      <th></th>\n",
       "      <th></th>\n",
       "      <th></th>\n",
       "      <th></th>\n",
       "      <th></th>\n",
       "      <th></th>\n",
       "      <th></th>\n",
       "      <th></th>\n",
       "    </tr>\n",
       "  </thead>\n",
       "  <tbody>\n",
       "    <tr>\n",
       "      <th>0</th>\n",
       "      <td>0</td>\n",
       "      <td>5</td>\n",
       "      <td>8</td>\n",
       "      <td>6</td>\n",
       "      <td>0</td>\n",
       "      <td>0</td>\n",
       "      <td>14536</td>\n",
       "      <td>17256</td>\n",
       "      <td>0</td>\n",
       "    </tr>\n",
       "    <tr>\n",
       "      <th>1</th>\n",
       "      <td>1</td>\n",
       "      <td>10</td>\n",
       "      <td>1</td>\n",
       "      <td>5</td>\n",
       "      <td>0</td>\n",
       "      <td>0</td>\n",
       "      <td>14536</td>\n",
       "      <td>17863</td>\n",
       "      <td>0</td>\n",
       "    </tr>\n",
       "    <tr>\n",
       "      <th>2</th>\n",
       "      <td>0</td>\n",
       "      <td>3</td>\n",
       "      <td>10</td>\n",
       "      <td>2</td>\n",
       "      <td>0</td>\n",
       "      <td>0</td>\n",
       "      <td>17409</td>\n",
       "      <td>17256</td>\n",
       "      <td>0</td>\n",
       "    </tr>\n",
       "    <tr>\n",
       "      <th>3</th>\n",
       "      <td>1</td>\n",
       "      <td>7</td>\n",
       "      <td>10</td>\n",
       "      <td>8</td>\n",
       "      <td>0</td>\n",
       "      <td>0</td>\n",
       "      <td>19558</td>\n",
       "      <td>18201</td>\n",
       "      <td>0</td>\n",
       "    </tr>\n",
       "    <tr>\n",
       "      <th>4</th>\n",
       "      <td>0</td>\n",
       "      <td>4</td>\n",
       "      <td>9</td>\n",
       "      <td>4</td>\n",
       "      <td>0</td>\n",
       "      <td>0</td>\n",
       "      <td>17409</td>\n",
       "      <td>17256</td>\n",
       "      <td>0</td>\n",
       "    </tr>\n",
       "  </tbody>\n",
       "</table>\n",
       "</div>"
      ],
      "text/plain": [
       "        blueFirstBlood  blueKills  blueDeaths  blueAssists  blueEliteMonsters  \\\n",
       "gameId                                                                          \n",
       "0                    0          5           8            6                  0   \n",
       "1                    1         10           1            5                  0   \n",
       "2                    0          3          10            2                  0   \n",
       "3                    1          7          10            8                  0   \n",
       "4                    0          4           9            4                  0   \n",
       "\n",
       "        blueDragons  blueTotalGold  blueTotalExperience  blueWins  \n",
       "gameId                                                             \n",
       "0                 0          14536                17256         0  \n",
       "1                 0          14536                17863         0  \n",
       "2                 0          17409                17256         0  \n",
       "3                 0          19558                18201         0  \n",
       "4                 0          17409                17256         0  "
      ]
     },
     "metadata": {},
     "output_type": "display_data"
    },
    {
     "data": {
      "text/html": [
       "<div>\n",
       "<style scoped>\n",
       "    .dataframe tbody tr th:only-of-type {\n",
       "        vertical-align: middle;\n",
       "    }\n",
       "\n",
       "    .dataframe tbody tr th {\n",
       "        vertical-align: top;\n",
       "    }\n",
       "\n",
       "    .dataframe thead th {\n",
       "        text-align: right;\n",
       "    }\n",
       "</style>\n",
       "<table border=\"1\" class=\"dataframe\">\n",
       "  <thead>\n",
       "    <tr style=\"text-align: right;\">\n",
       "      <th></th>\n",
       "      <th>blueFirstBlood</th>\n",
       "      <th>blueKills</th>\n",
       "      <th>blueDeaths</th>\n",
       "      <th>blueAssists</th>\n",
       "      <th>blueEliteMonsters</th>\n",
       "      <th>blueDragons</th>\n",
       "      <th>blueTotalGold</th>\n",
       "      <th>blueTotalExperience</th>\n",
       "    </tr>\n",
       "    <tr>\n",
       "      <th>gameId</th>\n",
       "      <th></th>\n",
       "      <th></th>\n",
       "      <th></th>\n",
       "      <th></th>\n",
       "      <th></th>\n",
       "      <th></th>\n",
       "      <th></th>\n",
       "      <th></th>\n",
       "    </tr>\n",
       "  </thead>\n",
       "  <tbody>\n",
       "    <tr>\n",
       "      <th>9</th>\n",
       "      <td>0</td>\n",
       "      <td>7</td>\n",
       "      <td>6</td>\n",
       "      <td>6</td>\n",
       "      <td>0</td>\n",
       "      <td>0</td>\n",
       "      <td>16961</td>\n",
       "      <td>18201</td>\n",
       "    </tr>\n",
       "    <tr>\n",
       "      <th>15</th>\n",
       "      <td>0</td>\n",
       "      <td>6</td>\n",
       "      <td>6</td>\n",
       "      <td>6</td>\n",
       "      <td>2</td>\n",
       "      <td>1</td>\n",
       "      <td>18513</td>\n",
       "      <td>18021</td>\n",
       "    </tr>\n",
       "    <tr>\n",
       "      <th>18</th>\n",
       "      <td>1</td>\n",
       "      <td>6</td>\n",
       "      <td>4</td>\n",
       "      <td>3</td>\n",
       "      <td>0</td>\n",
       "      <td>0</td>\n",
       "      <td>13475</td>\n",
       "      <td>17256</td>\n",
       "    </tr>\n",
       "    <tr>\n",
       "      <th>23</th>\n",
       "      <td>0</td>\n",
       "      <td>5</td>\n",
       "      <td>4</td>\n",
       "      <td>7</td>\n",
       "      <td>0</td>\n",
       "      <td>0</td>\n",
       "      <td>17409</td>\n",
       "      <td>17256</td>\n",
       "    </tr>\n",
       "    <tr>\n",
       "      <th>31</th>\n",
       "      <td>0</td>\n",
       "      <td>10</td>\n",
       "      <td>8</td>\n",
       "      <td>9</td>\n",
       "      <td>0</td>\n",
       "      <td>0</td>\n",
       "      <td>18117</td>\n",
       "      <td>18472</td>\n",
       "    </tr>\n",
       "  </tbody>\n",
       "</table>\n",
       "</div>"
      ],
      "text/plain": [
       "        blueFirstBlood  blueKills  blueDeaths  blueAssists  blueEliteMonsters  \\\n",
       "gameId                                                                          \n",
       "9                    0          7           6            6                  0   \n",
       "15                   0          6           6            6                  2   \n",
       "18                   1          6           4            3                  0   \n",
       "23                   0          5           4            7                  0   \n",
       "31                   0         10           8            9                  0   \n",
       "\n",
       "        blueDragons  blueTotalGold  blueTotalExperience  \n",
       "gameId                                                   \n",
       "9                 0          16961                18201  \n",
       "15                1          18513                18021  \n",
       "18                0          13475                17256  \n",
       "23                0          17409                17256  \n",
       "31                0          18117                18472  "
      ]
     },
     "metadata": {},
     "output_type": "display_data"
    }
   ],
   "source": [
    "display(train.head(), test.head())"
   ]
  },
  {
   "cell_type": "code",
   "execution_count": 8,
   "metadata": {},
   "outputs": [
    {
     "name": "stdout",
     "output_type": "stream",
     "text": [
      "<class 'pandas.core.frame.DataFrame'>\n",
      "Index: 8000 entries, 0 to 9998\n",
      "Data columns (total 9 columns):\n",
      " #   Column               Non-Null Count  Dtype\n",
      "---  ------               --------------  -----\n",
      " 0   blueFirstBlood       8000 non-null   int64\n",
      " 1   blueKills            8000 non-null   int64\n",
      " 2   blueDeaths           8000 non-null   int64\n",
      " 3   blueAssists          8000 non-null   int64\n",
      " 4   blueEliteMonsters    8000 non-null   int64\n",
      " 5   blueDragons          8000 non-null   int64\n",
      " 6   blueTotalGold        8000 non-null   int64\n",
      " 7   blueTotalExperience  8000 non-null   int64\n",
      " 8   blueWins             8000 non-null   int64\n",
      "dtypes: int64(9)\n",
      "memory usage: 625.0 KB\n"
     ]
    }
   ],
   "source": [
    "train.info()"
   ]
  },
  {
   "cell_type": "code",
   "execution_count": 9,
   "metadata": {},
   "outputs": [
    {
     "data": {
      "text/html": [
       "<div>\n",
       "<style scoped>\n",
       "    .dataframe tbody tr th:only-of-type {\n",
       "        vertical-align: middle;\n",
       "    }\n",
       "\n",
       "    .dataframe tbody tr th {\n",
       "        vertical-align: top;\n",
       "    }\n",
       "\n",
       "    .dataframe thead th {\n",
       "        text-align: right;\n",
       "    }\n",
       "</style>\n",
       "<table border=\"1\" class=\"dataframe\">\n",
       "  <thead>\n",
       "    <tr style=\"text-align: right;\">\n",
       "      <th></th>\n",
       "      <th>blueFirstBlood</th>\n",
       "      <th>blueKills</th>\n",
       "      <th>blueDeaths</th>\n",
       "      <th>blueAssists</th>\n",
       "      <th>blueEliteMonsters</th>\n",
       "      <th>blueDragons</th>\n",
       "      <th>blueTotalGold</th>\n",
       "      <th>blueTotalExperience</th>\n",
       "      <th>blueWins</th>\n",
       "    </tr>\n",
       "  </thead>\n",
       "  <tbody>\n",
       "    <tr>\n",
       "      <th>count</th>\n",
       "      <td>8000.000000</td>\n",
       "      <td>8000.000000</td>\n",
       "      <td>8000.00000</td>\n",
       "      <td>8000.000000</td>\n",
       "      <td>8000.000000</td>\n",
       "      <td>8000.000000</td>\n",
       "      <td>8000.000000</td>\n",
       "      <td>8000.000000</td>\n",
       "      <td>8000.000000</td>\n",
       "    </tr>\n",
       "    <tr>\n",
       "      <th>mean</th>\n",
       "      <td>0.513000</td>\n",
       "      <td>6.029750</td>\n",
       "      <td>5.92350</td>\n",
       "      <td>5.881875</td>\n",
       "      <td>0.538625</td>\n",
       "      <td>0.358125</td>\n",
       "      <td>17154.067750</td>\n",
       "      <td>17983.514000</td>\n",
       "      <td>0.491750</td>\n",
       "    </tr>\n",
       "    <tr>\n",
       "      <th>std</th>\n",
       "      <td>0.499862</td>\n",
       "      <td>2.623876</td>\n",
       "      <td>2.64892</td>\n",
       "      <td>3.189897</td>\n",
       "      <td>0.629728</td>\n",
       "      <td>0.479479</td>\n",
       "      <td>1820.796171</td>\n",
       "      <td>772.348402</td>\n",
       "      <td>0.499963</td>\n",
       "    </tr>\n",
       "    <tr>\n",
       "      <th>min</th>\n",
       "      <td>0.000000</td>\n",
       "      <td>0.000000</td>\n",
       "      <td>0.00000</td>\n",
       "      <td>0.000000</td>\n",
       "      <td>0.000000</td>\n",
       "      <td>0.000000</td>\n",
       "      <td>13475.000000</td>\n",
       "      <td>16650.000000</td>\n",
       "      <td>0.000000</td>\n",
       "    </tr>\n",
       "    <tr>\n",
       "      <th>25%</th>\n",
       "      <td>0.000000</td>\n",
       "      <td>4.000000</td>\n",
       "      <td>4.00000</td>\n",
       "      <td>3.000000</td>\n",
       "      <td>0.000000</td>\n",
       "      <td>0.000000</td>\n",
       "      <td>16544.000000</td>\n",
       "      <td>17256.000000</td>\n",
       "      <td>0.000000</td>\n",
       "    </tr>\n",
       "    <tr>\n",
       "      <th>50%</th>\n",
       "      <td>1.000000</td>\n",
       "      <td>6.000000</td>\n",
       "      <td>6.00000</td>\n",
       "      <td>6.000000</td>\n",
       "      <td>0.000000</td>\n",
       "      <td>0.000000</td>\n",
       "      <td>17409.000000</td>\n",
       "      <td>18021.000000</td>\n",
       "      <td>0.000000</td>\n",
       "    </tr>\n",
       "    <tr>\n",
       "      <th>75%</th>\n",
       "      <td>1.000000</td>\n",
       "      <td>8.000000</td>\n",
       "      <td>8.00000</td>\n",
       "      <td>8.000000</td>\n",
       "      <td>1.000000</td>\n",
       "      <td>1.000000</td>\n",
       "      <td>18274.000000</td>\n",
       "      <td>18472.000000</td>\n",
       "      <td>1.000000</td>\n",
       "    </tr>\n",
       "    <tr>\n",
       "      <th>max</th>\n",
       "      <td>1.000000</td>\n",
       "      <td>14.000000</td>\n",
       "      <td>14.00000</td>\n",
       "      <td>17.000000</td>\n",
       "      <td>2.000000</td>\n",
       "      <td>1.000000</td>\n",
       "      <td>20619.000000</td>\n",
       "      <td>20101.000000</td>\n",
       "      <td>1.000000</td>\n",
       "    </tr>\n",
       "  </tbody>\n",
       "</table>\n",
       "</div>"
      ],
      "text/plain": [
       "       blueFirstBlood    blueKills  blueDeaths  blueAssists  \\\n",
       "count     8000.000000  8000.000000  8000.00000  8000.000000   \n",
       "mean         0.513000     6.029750     5.92350     5.881875   \n",
       "std          0.499862     2.623876     2.64892     3.189897   \n",
       "min          0.000000     0.000000     0.00000     0.000000   \n",
       "25%          0.000000     4.000000     4.00000     3.000000   \n",
       "50%          1.000000     6.000000     6.00000     6.000000   \n",
       "75%          1.000000     8.000000     8.00000     8.000000   \n",
       "max          1.000000    14.000000    14.00000    17.000000   \n",
       "\n",
       "       blueEliteMonsters  blueDragons  blueTotalGold  blueTotalExperience  \\\n",
       "count        8000.000000  8000.000000    8000.000000          8000.000000   \n",
       "mean            0.538625     0.358125   17154.067750         17983.514000   \n",
       "std             0.629728     0.479479    1820.796171           772.348402   \n",
       "min             0.000000     0.000000   13475.000000         16650.000000   \n",
       "25%             0.000000     0.000000   16544.000000         17256.000000   \n",
       "50%             0.000000     0.000000   17409.000000         18021.000000   \n",
       "75%             1.000000     1.000000   18274.000000         18472.000000   \n",
       "max             2.000000     1.000000   20619.000000         20101.000000   \n",
       "\n",
       "          blueWins  \n",
       "count  8000.000000  \n",
       "mean      0.491750  \n",
       "std       0.499963  \n",
       "min       0.000000  \n",
       "25%       0.000000  \n",
       "50%       0.000000  \n",
       "75%       1.000000  \n",
       "max       1.000000  "
      ]
     },
     "execution_count": 9,
     "metadata": {},
     "output_type": "execute_result"
    }
   ],
   "source": [
    "train.describe()"
   ]
  },
  {
   "cell_type": "code",
   "execution_count": 10,
   "metadata": {},
   "outputs": [
    {
     "data": {
      "text/plain": [
       "Index(['blueFirstBlood', 'blueKills', 'blueDeaths', 'blueAssists',\n",
       "       'blueEliteMonsters', 'blueDragons', 'blueTotalGold',\n",
       "       'blueTotalExperience', 'blueWins'],\n",
       "      dtype='object')"
      ]
     },
     "execution_count": 10,
     "metadata": {},
     "output_type": "execute_result"
    }
   ],
   "source": [
    "train.columns"
   ]
  },
  {
   "cell_type": "code",
   "execution_count": 11,
   "metadata": {},
   "outputs": [
    {
     "data": {
      "image/png": "[encoded data removed]",
      "text/plain": [
       "<Figure size 640x480 with 1 Axes>"
      ]
     },
     "metadata": {},
     "output_type": "display_data"
    }
   ],
   "source": [
    "plt.hist(train['blueTotalGold']);"
   ]
  },
  {
   "cell_type": "code",
   "execution_count": 12,
   "metadata": {},
   "outputs": [
    {
     "data": {
      "text/plain": [
       "blueTotalGold\n",
       "17409    1881\n",
       "14536    1142\n",
       "18274    1047\n",
       "16961     811\n",
       "18513     698\n",
       "19558     513\n",
       "18117     459\n",
       "13519     320\n",
       "20619     319\n",
       "13475     294\n",
       "16544     257\n",
       "17381     165\n",
       "20038      32\n",
       "19407      23\n",
       "16146      20\n",
       "17450      10\n",
       "17440       9\n",
       "Name: count, dtype: int64"
      ]
     },
     "execution_count": 12,
     "metadata": {},
     "output_type": "execute_result"
    }
   ],
   "source": [
    "train['blueTotalGold'].value_counts()"
   ]
  },
  {
   "cell_type": "code",
   "execution_count": 13,
   "metadata": {},
   "outputs": [
    {
     "data": {
      "text/plain": [
       "blueWins               1.000000\n",
       "blueKills              0.337541\n",
       "blueTotalExperience    0.328167\n",
       "blueAssists            0.311647\n",
       "blueEliteMonsters      0.272810\n",
       "blueDragons            0.251957\n",
       "blueFirstBlood         0.226536\n",
       "blueTotalGold          0.040489\n",
       "blueDeaths            -0.237224\n",
       "dtype: float64"
      ]
     },
     "execution_count": 13,
     "metadata": {},
     "output_type": "execute_result"
    }
   ],
   "source": [
    "train.corrwith(train['blueWins']).sort_values(ascending=False)"
   ]
  },
  {
   "cell_type": "markdown",
   "metadata": {},
   "source": [
    "特徴量の選定"
   ]
  },
  {
   "cell_type": "code",
   "execution_count": 14,
   "metadata": {},
   "outputs": [],
   "source": [
    "selected_cols =['blueFirstBlood', 'blueKills', 'blueDeaths', 'blueAssists',\n",
    "                'blueEliteMonsters', 'blueDragons', 'blueTotalGold',\n",
    "                'blueTotalExperience']\n",
    "train_X = train[selected_cols]\n",
    "train_y = train['blueWins']\n",
    "test_X =test[selected_cols]"
   ]
  },
  {
   "cell_type": "markdown",
   "metadata": {},
   "source": [
    "バリデーション＆モデリング"
   ]
  },
  {
   "cell_type": "markdown",
   "metadata": {},
   "source": [
    "lightgbm"
   ]
  },
  {
   "cell_type": "code",
   "execution_count": 123,
   "metadata": {},
   "outputs": [
    {
     "name": "stdout",
     "output_type": "stream",
     "text": [
      "0.7975\n",
      "0    1048\n",
      "1     952\n",
      "Name: count, dtype: int64\n",
      "0.794\n",
      "1    1014\n",
      "0     986\n",
      "Name: count, dtype: int64\n",
      "0.797\n",
      "0    1035\n",
      "1     965\n",
      "Name: count, dtype: int64\n",
      "0.7765\n",
      "1    1017\n",
      "0     983\n",
      "Name: count, dtype: int64\n",
      "total: \n",
      "0.79125\n",
      "983.0\n",
      "1017.0\n",
      "lgb: \n",
      "975.0\n",
      "1025.0\n"
     ]
    }
   ],
   "source": [
    "scores1 = []\n",
    "lgb_probas = []\n",
    "\n",
    "kf = KFold(n_splits=4, shuffle=True, random_state=71)\n",
    "\n",
    "for tr_idx, va_idx in kf.split(train_X, train_y):\n",
    "    tr_X, va_X = train_X.iloc[tr_idx], train_X.iloc[va_idx]\n",
    "    tr_y, va_y = train_y.iloc[tr_idx], train_y.iloc[va_idx]\n",
    "\n",
    "    lgb_train = lgb.Dataset(tr_X, tr_y)\n",
    "    lgb_eval = lgb.Dataset(va_X, va_y)\n",
    "    \n",
    "    params = {'objective': 'binary', 'seed': 71, 'verbose': 0, 'metric': 'accuracy', 'learning_rate': 0.07}\n",
    "    num_round = 90\n",
    "    \n",
    "    model_1 = lgb.train(params, lgb_train, num_boost_round=num_round, valid_names=['train', 'valid'], valid_sets=[lgb_train, lgb_eval])\n",
    "    \n",
    "    pred1_proba = model_1.predict(va_X)\n",
    "    pred1 = np.where(pred1_proba < 0.5, 0, 1).astype(int)\n",
    "\n",
    "    score1 = accuracy_score(va_y, pred1)\n",
    "    print(score1)\n",
    "\n",
    "    lgb_proba = model_1.predict(test_X)\n",
    "\n",
    "    scores1.append(score1)\n",
    "    lgb_probas.append(lgb_proba)\n",
    "\n",
    "    df_pred1=pd.DataFrame(pred1)\n",
    "    print(df_pred1.value_counts())\n",
    "\n",
    "\n",
    "print('total: ')\n",
    "print(np.mean(scores1))\n",
    "print(df_pred1.value_counts()[0].mean())\n",
    "print(df_pred1.value_counts()[1].mean())\n",
    "\n",
    "lgb_probas = pd.DataFrame(lgb_probas).T\n",
    "lgb_proba = lgb_probas.mean(axis=1)\n",
    "lgb_pred = lgb_proba.apply(lambda x: 0 if x < 0.5 else 1).astype(int)\n",
    "print('lgb: ')\n",
    "print(lgb_pred.value_counts()[0].mean())\n",
    "print(lgb_pred.value_counts()[1].mean())"
   ]
  },
  {
   "cell_type": "markdown",
   "metadata": {},
   "source": [
    "xgbClassifiier"
   ]
  },
  {
   "cell_type": "code",
   "execution_count": 124,
   "metadata": {},
   "outputs": [
    {
     "name": "stdout",
     "output_type": "stream",
     "text": [
      "0.793\n",
      "0    1043\n",
      "1     957\n",
      "Name: count, dtype: int64\n",
      "0.795\n",
      "1    1020\n",
      "0     980\n",
      "Name: count, dtype: int64\n",
      "0.7925\n",
      "0    1018\n",
      "1     982\n",
      "Name: count, dtype: int64\n",
      "0.785\n",
      "1    1002\n",
      "0     998\n",
      "Name: count, dtype: int64\n",
      "total: \n",
      "0.791375\n",
      "998.0\n",
      "1002.0\n",
      "xgb: \n",
      "984.0\n",
      "1016.0\n"
     ]
    }
   ],
   "source": [
    "scores2 = []\n",
    "xgb_probas = []\n",
    "\n",
    "kf = KFold(n_splits=4, shuffle=True, random_state=71)\n",
    "for (tr_idx, va_idx) in kf.split(train_X, train_y):\n",
    "    tr_X, va_X = train_X.iloc[tr_idx], train_X.iloc[va_idx]\n",
    "    tr_y, va_y = train_y.iloc[tr_idx], train_y.iloc[va_idx]\n",
    "\n",
    "    model_2 = xgb.XGBClassifier(n_estimators=450, eta=0.3, max_depth=3, colsample_bytree=0.8, subsample=0.8)\n",
    "    model_2.fit(tr_X, tr_y)\n",
    "    \n",
    "    pred2_proba = model_2.predict_proba(va_X)\n",
    "    pred2 = np.argmax(pred2_proba, axis=1).astype(int)\n",
    "    \n",
    "    score2 = accuracy_score(va_y, pred2)\n",
    "    print(score2)\n",
    "\n",
    "    df_pred2 =pd.DataFrame(pred2)\n",
    "    print(df_pred2.value_counts())\n",
    "\n",
    "    xgb_proba = model_2.predict_proba(test_X)\n",
    "\n",
    "    scores2.append(score2)\n",
    "    xgb_probas.append(xgb_proba)\n",
    "\n",
    "print('total: ')\n",
    "print(np.mean(scores2))\n",
    "print(df_pred2.value_counts()[0].mean())\n",
    "print(df_pred2.value_counts()[1].mean())\n",
    "\n",
    "xgb_probas = np.delete(xgb_probas, 0, axis=2)\n",
    "xgb_probas = pd.DataFrame(xgb_probas.reshape(4, 2000)).T\n",
    "xgb_proba = xgb_probas.mean(axis=1)\n",
    "xgb_pred = xgb_proba.apply(lambda x: 0 if x < 0.5 else 1).astype(int)\n",
    "print('xgb: ')\n",
    "print(xgb_pred.value_counts()[0].mean())\n",
    "print(xgb_pred.value_counts()[1].mean())"
   ]
  },
  {
   "cell_type": "markdown",
   "metadata": {},
   "source": [
    "スタッキング"
   ]
  },
  {
   "cell_type": "code",
   "execution_count": 125,
   "metadata": {},
   "outputs": [
    {
     "name": "stdout",
     "output_type": "stream",
     "text": [
      "0.794\n",
      "0    260\n",
      "1    240\n",
      "Name: count, dtype: int64\n",
      "0.806\n",
      "0    258\n",
      "1    242\n",
      "Name: count, dtype: int64\n",
      "0.772\n",
      "0    254\n",
      "1    246\n",
      "Name: count, dtype: int64\n",
      "0.76\n",
      "1    254\n",
      "0    246\n",
      "Name: count, dtype: int64\n",
      "total: \n",
      "0.7829999999999999\n",
      "246.0\n",
      "254.0\n"
     ]
    }
   ],
   "source": [
    "meta_train_X = np.column_stack((pred1, pred2))\n",
    "meta_train_X = pd.DataFrame(meta_train_X)\n",
    "meta_train_y = va_y.copy()\n",
    "\n",
    "meta_scores = []\n",
    "\n",
    "kf = KFold(n_splits=4, shuffle=True, random_state=71)\n",
    "for meta_tr_idx, meta_va_idx in kf.split(meta_train_X, meta_train_y):\n",
    "    meta_tr_X, meta_va_X = meta_train_X.iloc[meta_tr_idx], meta_train_X.iloc[meta_va_idx]\n",
    "    meta_tr_y, meta_va_y = meta_train_y.iloc[meta_tr_idx], meta_train_y.iloc[meta_va_idx]\n",
    "    meta_model = LogisticRegression()\n",
    "    meta_model.fit(meta_tr_X, meta_tr_y)\n",
    "\n",
    "    meta_pred_proba = meta_model.predict_proba(meta_va_X)\n",
    "    meta_pred = np.argmax(meta_pred_proba, axis=1).astype(int)\n",
    "\n",
    "    meta_score = accuracy_score(meta_va_y, meta_pred)\n",
    "    print(meta_score)\n",
    "    df_meta_pred = pd.DataFrame(meta_pred)\n",
    "    print(df_meta_pred.value_counts())\n",
    "\n",
    "    meta_scores.append(meta_score)\n",
    "\n",
    "print('total: ')\n",
    "print(np.mean(meta_scores))\n",
    "print(df_meta_pred.value_counts()[0].mean())\n",
    "print(df_meta_pred.value_counts()[1].mean())"
   ]
  },
  {
   "cell_type": "markdown",
   "metadata": {},
   "source": [
    "最終予測"
   ]
  },
  {
   "cell_type": "code",
   "execution_count": 127,
   "metadata": {},
   "outputs": [
    {
     "name": "stdout",
     "output_type": "stream",
     "text": [
      "1    1016\n",
      "0     984\n",
      "Name: count, dtype: int64\n"
     ]
    }
   ],
   "source": [
    "level1_preds = np.column_stack((lgb_pred, xgb_pred))\n",
    "level1_preds = pd.DataFrame(level1_preds)\n",
    "\n",
    "pred_proba = meta_model.predict_proba(level1_preds)\n",
    "pred = np.argmax(pred_proba, axis=1).astype(int)\n",
    "\n",
    "df_pred =  pd.DataFrame(pred)\n",
    "print(df_pred.value_counts())"
   ]
  },
  {
   "cell_type": "code",
   "execution_count": 122,
   "metadata": {},
   "outputs": [],
   "source": [
    "submit = sample_submit.copy()\n",
    "submit[1] = pred\n",
    "submit.to_csv('submit.csv', header=None)"
   ]
  }
 ],
 "metadata": {
  "kernelspec": {
   "display_name": "py312",
   "language": "python",
   "name": "python3"
  },
  "language_info": {
   "codemirror_mode": {
    "name": "ipython",
    "version": 3
   },
   "file_extension": ".py",
   "mimetype": "text/x-python",
   "name": "python",
   "nbconvert_exporter": "python",
   "pygments_lexer": "ipython3",
   "version": "3.12.0"
  }
 },
 "nbformat": 4,
 "nbformat_minor": 2
}
